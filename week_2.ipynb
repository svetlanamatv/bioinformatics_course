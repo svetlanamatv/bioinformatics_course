{
 "cells": [
  {
   "cell_type": "code",
   "execution_count": 2,
   "id": "14440797-fe73-4093-bea6-70bf7bf0c3ac",
   "metadata": {},
   "outputs": [],
   "source": [
    "from collections import defaultdict\n",
    "from typing import List, Dict, Set\n",
    "import matplotlib.pyplot as plt"
   ]
  },
  {
   "cell_type": "markdown",
   "id": "e92dce70-396f-4cb6-bbfe-ee139d513ed2",
   "metadata": {},
   "source": [
    "### Skew"
   ]
  },
  {
   "cell_type": "code",
   "execution_count": 14,
   "id": "d802bbb2-468c-4a3e-a445-3aeff86fdab6",
   "metadata": {},
   "outputs": [],
   "source": [
    "def get_skew(genome: str) -> List[int]:\n",
    "    ''' Returns an array with skew values (G - C) for genome'''\n",
    "\n",
    "    G, C = 0, 0\n",
    "    ans = [0]\n",
    "    \n",
    "    for item in genome:\n",
    "        if item == \"C\":\n",
    "            C += 1\n",
    "        elif item == \"G\":\n",
    "            G += 1\n",
    "        \n",
    "        ans.append(G - C)\n",
    "        \n",
    "    return ans    "
   ]
  },
  {
   "cell_type": "code",
   "execution_count": 15,
   "id": "2cdbb477-0f50-42e5-a66f-d0e4c7fe7fa9",
   "metadata": {},
   "outputs": [
    {
     "name": "stdout",
     "output_type": "stream",
     "text": [
      "[0, -1, -1, -1, 0, 1, 2, 1, 1, 1, 0, 1, 2, 1, 0, 0, 0, 0, -1, 0, -1, -2]\n",
      "True\n"
     ]
    },
    {
     "data": {
      "text/plain": [
       "Text(0, 0.5, 'Skew (G - C)')"
      ]
     },
     "execution_count": 15,
     "metadata": {},
     "output_type": "execute_result"
    },
    {
     "data": {
      "image/png": "[encoded data removed]",
      "text/plain": [
       "<Figure size 432x288 with 1 Axes>"
      ]
     },
     "metadata": {
      "needs_background": "light"
     },
     "output_type": "display_data"
    }
   ],
   "source": [
    "genome = \"CATGGGCATCGGCCATACGCC\"\n",
    "right_ans = [0, -1, -1, -1, 0, 1, 2, 1, 1, 1, 0, 1, 2, 1, 0, 0, 0, 0, -1, 0, -1, -2]\n",
    "\n",
    "ans = get_skew(genome)\n",
    "print(ans)\n",
    "print(ans == right_ans)\n",
    "\n",
    "plt.plot([i for i in range(len(ans))], ans)\n",
    "plt.xlabel(\"Genome position\")\n",
    "plt.ylabel(\"Skew (G - C)\")"
   ]
  },
  {
   "cell_type": "code",
   "execution_count": 22,
   "id": "97996142-9e0b-447e-9339-23538a4a0ee9",
   "metadata": {},
   "outputs": [],
   "source": [
    "def get_skew_min(genome: str):\n",
    "    ''' Returns genome's skew array, its minimum and argmin '''\n",
    "\n",
    "    G, C = 0, 0\n",
    "    skew_arr = [0]\n",
    "    min_value = float(\"inf\")\n",
    "    min_ind = []\n",
    "    \n",
    "    for i, item in enumerate(genome):\n",
    "        if item == \"C\":\n",
    "            C += 1\n",
    "        elif item == \"G\":\n",
    "            G += 1\n",
    "        \n",
    "        diff = G - C\n",
    "        skew_arr.append(diff)\n",
    "        \n",
    "        if diff < min_value:\n",
    "            min_value = diff\n",
    "            min_ind = [i + 1]\n",
    "        elif diff == min_value:\n",
    "            min_ind.append(i + 1)\n",
    "            \n",
    "        \n",
    "    return skew_arr, min_value, min_ind"
   ]
  },
  {
   "cell_type": "code",
   "execution_count": 23,
   "id": "14b731f7-eb84-415f-bcbb-315b7a495e65",
   "metadata": {},
   "outputs": [
    {
     "name": "stdout",
     "output_type": "stream",
     "text": [
      "-2 [21]\n"
     ]
    }
   ],
   "source": [
    "skew_arr, min_value, min_ind = get_skew_min(genome)\n",
    "print(min_value, min_ind)"
   ]
  },
  {
   "cell_type": "code",
   "execution_count": 27,
   "id": "cf26a332-80b5-4766-af42-748bc8b4d405",
   "metadata": {},
   "outputs": [],
   "source": [
    "def get_skew_max(genome: str):\n",
    "    ''' Returns genome's skew array, its maximum and argmax '''\n",
    "    \n",
    "    G, C = 0, 0\n",
    "    ans = [0]\n",
    "    max_value = float(\"-inf\")\n",
    "    max_ind = []\n",
    "    \n",
    "    for i, item in enumerate(genome):\n",
    "        if item == \"C\":\n",
    "            C += 1\n",
    "        elif item == \"G\":\n",
    "            G += 1\n",
    "        \n",
    "        diff = G - C\n",
    "        ans.append(diff)\n",
    "        \n",
    "        if diff > max_value:\n",
    "            max_value = diff\n",
    "            max_ind = [i + 1]\n",
    "        elif diff == max_value:\n",
    "            max_ind.append(i + 1)\n",
    "            \n",
    "        \n",
    "    return ans, max_value, max_ind"
   ]
  },
  {
   "cell_type": "code",
   "execution_count": 28,
   "id": "1609f02b-739b-4abd-a336-a5c041c3a5e1",
   "metadata": {},
   "outputs": [
    {
     "name": "stdout",
     "output_type": "stream",
     "text": [
      "2 [6, 12]\n"
     ]
    }
   ],
   "source": [
    "skew_arr, max_value, max_ind = get_skew_max(genome)\n",
    "print(max_value, max_ind)"
   ]
  },
  {
   "cell_type": "markdown",
   "id": "31819568-fa0d-43b9-b455-f3aec7cc3113",
   "metadata": {},
   "source": [
    "### Hamming Distance"
   ]
  },
  {
   "cell_type": "code",
   "execution_count": 29,
   "id": "ad74689b-7173-4921-a2b3-999967215242",
   "metadata": {},
   "outputs": [],
   "source": [
    "def HammingDistance(s1: str, s2: str) -> int:\n",
    "    ''' Takes in two k-mers and returns Hamming distance between them'''\n",
    "\n",
    "    res = 0\n",
    "    for i in range(len(s1)):\n",
    "        if s1[i] != s2[i]:\n",
    "            res += 1\n",
    "    return res"
   ]
  },
  {
   "cell_type": "code",
   "execution_count": 30,
   "id": "44bc92dc-4f51-4742-9895-ac825216a96c",
   "metadata": {},
   "outputs": [
    {
     "data": {
      "text/plain": [
       "3"
      ]
     },
     "execution_count": 30,
     "metadata": {},
     "output_type": "execute_result"
    }
   ],
   "source": [
    "s1 = \"GGGCCGTTGGT\"\n",
    "s2 = \"GGACCGTTGAC\"\n",
    "\n",
    "HammingDistance(s1, s2)"
   ]
  },
  {
   "cell_type": "markdown",
   "id": "c4a49cb8-a7d2-49f5-a0e6-faed0697815c",
   "metadata": {},
   "source": [
    "### Approximate Pattern Matching Problem"
   ]
  },
  {
   "cell_type": "code",
   "execution_count": 35,
   "id": "8e4b568d-4984-4d02-8124-45885afbe89e",
   "metadata": {},
   "outputs": [],
   "source": [
    "def ApproximatePatternMatching(pattern: str, text: str, d: int) -> List[int]:\n",
    "    ''' Returns all starting positions where Pattern appears as a substring of Text \n",
    "            with at most d mismatches '''\n",
    "\n",
    "    n = len(pattern)\n",
    "    res = []\n",
    "    \n",
    "    for i in range(len(text) - len(pattern) + 1):\n",
    "        if HammingDistance(pattern, text[i:i + n]) <= d:\n",
    "            res.append(i)\n",
    "            \n",
    "    return res"
   ]
  },
  {
   "cell_type": "code",
   "execution_count": 36,
   "id": "ffa9ccb8-0405-4b0d-b390-2fee907745c1",
   "metadata": {},
   "outputs": [
    {
     "data": {
      "text/plain": [
       "[6, 7, 26, 27]"
      ]
     },
     "execution_count": 36,
     "metadata": {},
     "output_type": "execute_result"
    }
   ],
   "source": [
    "pattern = \"ATTCTGGA\"\n",
    "text = \"CGCCCGAATCCAGAACGCATTCCCATATTTCGGGACCACTGGCCTCCACGGTACGGACGTCAATCAAAT\"\n",
    "d = 3\n",
    "\n",
    "ApproximatePatternMatching(pattern, text, d)\n",
    "# right answer: [6, 7, 26, 27]"
   ]
  },
  {
   "cell_type": "code",
   "execution_count": 40,
   "id": "8987a1aa-2270-430f-86ed-f92338759833",
   "metadata": {},
   "outputs": [],
   "source": [
    "def ApproximatePatternCount(pattern: str, text: str, d: int) -> int:\n",
    "    ''' Returns number of occurrences of Pattern in Text with at most d mismatches '''\n",
    "    \n",
    "    n = len(pattern)\n",
    "    count = 0\n",
    "    \n",
    "    for i in range(len(text) - len(pattern) + 1):\n",
    "        if HammingDistance(pattern, text[i:i + n]) <= d:\n",
    "            count += 1\n",
    "            \n",
    "    return count"
   ]
  },
  {
   "cell_type": "code",
   "execution_count": 41,
   "id": "58f23264-92b6-408c-bbda-ce3badf8968d",
   "metadata": {},
   "outputs": [
    {
     "data": {
      "text/plain": [
       "4"
      ]
     },
     "execution_count": 41,
     "metadata": {},
     "output_type": "execute_result"
    }
   ],
   "source": [
    "text = \"TTTAGAGCCTTCAGAGG\"\n",
    "pattern = \"GAGG\"\n",
    "d = 2\n",
    "\n",
    "ApproximatePatternCount(pattern, text, d)\n",
    "# right answer = 4"
   ]
  },
  {
   "cell_type": "code",
   "execution_count": 47,
   "id": "78368ca6-809e-4fbb-bf4e-710997f4eb62",
   "metadata": {},
   "outputs": [],
   "source": [
    "def ImmediateNeighbors(pattern: str) -> Set[str]:\n",
    "    ''' Returns immidiate neighbors (only 1 nucleotide differnce) for Pattern '''\n",
    "\n",
    "    neighborhood = set()\n",
    "    nucleotides = {\"C\", \"G\", \"A\", \"T\"}\n",
    "\n",
    "    for i in range(len(pattern)):\n",
    "        nucleotide_to_replace = pattern[i]\n",
    "        for nucleotide in list(nucleotides - set(nucleotide_to_replace)):\n",
    "            neighbor = pattern[:i] + nucleotide + pattern[i + 1:]\n",
    "            neighborhood.add(neighbor)\n",
    "    return neighborhood"
   ]
  },
  {
   "cell_type": "code",
   "execution_count": 48,
   "id": "85490842-f7af-430b-9320-a69f48217820",
   "metadata": {},
   "outputs": [
    {
     "name": "stdout",
     "output_type": "stream",
     "text": [
      "{'CC', 'AA', 'AG', 'AT', 'GC', 'TC'}\n",
      "True\n"
     ]
    }
   ],
   "source": [
    "ans = ImmediateNeighbors(\"AC\")\n",
    "print(ans)\n",
    "\n",
    "right_ans = {'AA', 'AG', 'AT', 'CC', 'GC', 'TC'}\n",
    "print(ans == right_ans)"
   ]
  },
  {
   "cell_type": "code",
   "execution_count": 51,
   "id": "1fa39385-c114-4fd1-86ed-5abf3a31fa4c",
   "metadata": {},
   "outputs": [],
   "source": [
    "def Neighbors(pattern: str, d: int) -> Set[str]:\n",
    "    ''' Returns neighbors with at most d mismatches for Pattern '''\n",
    "    \n",
    "    if d == 0:\n",
    "        return {pattern}\n",
    "    if len(pattern) == 1: \n",
    "        return {'A', 'C', 'G', 'T'}\n",
    "    \n",
    "    neighborhood = set()\n",
    "    \n",
    "    SuffixNeighbors = Neighbors(pattern[1:], d)\n",
    "    for s in SuffixNeighbors:\n",
    "        if HammingDistance(pattern[1:], s) < d:\n",
    "            for nucleotide in {'A', 'C', 'G', 'T'}:\n",
    "                neighborhood.add(nucleotide + s)\n",
    "        else:\n",
    "            neighborhood.add(pattern[0] + s)\n",
    "    return neighborhood"
   ]
  },
  {
   "cell_type": "code",
   "execution_count": 52,
   "id": "8863d8dd-8f10-4e1b-8fff-2c93ee4b098a",
   "metadata": {},
   "outputs": [
    {
     "name": "stdout",
     "output_type": "stream",
     "text": [
      "{'CAT', 'AAA', 'CAC', 'CCA', 'CAA', 'TAA', 'CAG', 'CTA', 'GAA', 'CGA'}\n",
      "True\n"
     ]
    }
   ],
   "source": [
    "ans = Neighbors(\"CAA\", 1)\n",
    "print(ans)\n",
    "\n",
    "right_ans = {'CAA', 'GAA', 'AAA', 'TAA', 'CCA', 'CGA', 'CTA', 'CAC', 'CAG', 'CAT'}\n",
    "print(ans == right_ans)"
   ]
  },
  {
   "cell_type": "code",
   "execution_count": 53,
   "id": "25a36a0c-c37c-4027-bd76-ffbd8924e02c",
   "metadata": {},
   "outputs": [],
   "source": [
    "# looking for == d (not <= d)\n",
    "def NeighborsExact(pattern: str, d: int) -> Set[str]:\n",
    "    ''' Returns neighbors with exactly d mismatches for Pattern '''\n",
    "    \n",
    "    if d == 0:\n",
    "        return {pattern}\n",
    "    if len(pattern) == 1: \n",
    "        return {'A', 'C', 'G', 'T'}\n",
    "    \n",
    "    neighborhood = set()\n",
    "    \n",
    "    SuffixNeighbors = Neighbors(pattern[1:], d)\n",
    "    for s in SuffixNeighbors:\n",
    "        hamming_distance_value = HammingDistance(pattern[1:], s)\n",
    "        if hamming_distance_value == d - 1:\n",
    "            for nucleotide in list({'A', 'C', 'G', 'T'} - {pattern[0]}):\n",
    "                neighborhood.add(nucleotide + s)\n",
    "        elif hamming_distance_value == d:\n",
    "            neighborhood.add(pattern[0] + s)\n",
    "    return neighborhood"
   ]
  },
  {
   "cell_type": "code",
   "execution_count": 54,
   "id": "3de40f3d-6923-4434-bdf6-d42c84882671",
   "metadata": {},
   "outputs": [
    {
     "name": "stdout",
     "output_type": "stream",
     "text": [
      "{'CAT', 'AAA', 'CAC', 'CCA', 'TAA', 'CAG', 'CTA', 'GAA', 'CGA'}\n",
      "True\n"
     ]
    }
   ],
   "source": [
    "ans = NeighborsExact(\"CAA\", 1)\n",
    "print(ans)\n",
    "\n",
    "# like previous but without CAA because HammingDistance('CAA', 'CAA') = 0 (should be equal to 1 exact)\n",
    "right_ans = {'GAA', 'AAA', 'TAA', 'CCA', 'CGA', 'CTA', 'CAC', 'CAG', 'CAT'}\n",
    "print(ans == right_ans)"
   ]
  },
  {
   "cell_type": "code",
   "execution_count": null,
   "id": "c2bd75e2-d121-4f68-9649-dc4615450d0c",
   "metadata": {},
   "outputs": [],
   "source": []
  },
  {
   "cell_type": "code",
   "execution_count": 58,
   "id": "9a74beca-d41f-486d-9e84-a674ee997673",
   "metadata": {},
   "outputs": [],
   "source": [
    "def FrequentWordsWithMismatches(text: str, k: int, d: int) -> List[str]:\n",
    "    ''' Returns all most frequent k-mers with up to d mismatches in Text '''\n",
    "\n",
    "    patterns = []\n",
    "    freqMap = defaultdict(int)\n",
    "    n = len(text)\n",
    "    \n",
    "    for i in range(n - k + 1):\n",
    "        pattern = text[i:i + k]\n",
    "        neighborhood = Neighbors(pattern, d)\n",
    "        for neighbor in neighborhood:\n",
    "            freqMap[neighbor] += 1\n",
    "\n",
    "    m = max(freqMap.values())\n",
    "    for pattern, freq in freqMap.items():\n",
    "        if freqMap[pattern] == m:\n",
    "            patterns.append(pattern)\n",
    "    return patterns"
   ]
  },
  {
   "cell_type": "code",
   "execution_count": 56,
   "id": "30779916-e3fc-4a2e-bb6e-9709fbece23e",
   "metadata": {},
   "outputs": [
    {
     "data": {
      "text/plain": [
       "['CA', 'GA', 'AA', 'TA']"
      ]
     },
     "execution_count": 56,
     "metadata": {},
     "output_type": "execute_result"
    }
   ],
   "source": [
    "FrequentWordsWithMismatches('CAAA', 2, 1)"
   ]
  },
  {
   "cell_type": "code",
   "execution_count": 57,
   "id": "6e0cac92-1ba2-45c6-8970-368ba3292638",
   "metadata": {},
   "outputs": [
    {
     "name": "stdout",
     "output_type": "stream",
     "text": [
      "['TTTTT']\n",
      "True\n"
     ]
    }
   ],
   "source": [
    "text = \"TCTCTATGTAATACGATATAATATATATATCTCATAATATCTCTCTCATAGTATATGTACGATGTATCTCATACGATTCTCCGATATATATTCTCTCTCGTAGTATATTATGTATATGTAATAATACGATCGATGTAGTATCTCTCTCATATATGTATCTCGTAGTAGTAGTATATTCTCTCTCGTACGATGTACGATGTATATGTAATACGATTCTCGTACGATTATGTACGATGTATCTCGTATATCGATGTATATATACGATTCTCTCTCTCTCCGATGTATCTCGTAGTATATATAATATCTCTATTCTCATATATCGATTCTCTCTCATA\"\n",
    "k, d = 5, 3\n",
    "\n",
    "ans = FrequentWordsWithMismatches(text, k, d)\n",
    "print(ans)\n",
    "\n",
    "right_ans = ['TTTTT']\n",
    "print(ans == right_ans)"
   ]
  },
  {
   "cell_type": "code",
   "execution_count": null,
   "id": "9d9ff338-1f46-46b1-9e3d-5e962e93188a",
   "metadata": {},
   "outputs": [],
   "source": [
    "def FrequentWordsWithMismatchesAndRC(text: str, k: int, d: int) -> List[str]:\n",
    "    ''' Returns all most frequent k-mers and its reverse complements with up to d mismatches in Text '''\n",
    "\n",
    "    patterns = []\n",
    "    freqMap = defaultdict(int)\n",
    "    n = len(text)\n",
    "    \n",
    "    for i in range(n - k + 1):\n",
    "        pattern = text[i:i + k]\n",
    "        neighborhood = Neighbors(pattern, d)\n",
    "        for neighbor in neighborhood:\n",
    "            freqMap[neighbor] += 1\n",
    "        \n",
    "        pattern_rc = get_compliment(pattern)\n",
    "        neighborhood_rc = Neighbors(pattern_rc, d)\n",
    "        for neighbor in neighborhood_rc:\n",
    "            freqMap[neighbor] += 1\n",
    "\n",
    "    m = max(freqMap.values())\n",
    "    for pattern, freq in freqMap.items():\n",
    "        if freqMap[pattern] == m:\n",
    "            patterns.append(pattern)\n",
    "    return patterns"
   ]
  },
  {
   "cell_type": "code",
   "execution_count": null,
   "id": "9377753d-f88f-4b9c-9707-2e133f185f1b",
   "metadata": {},
   "outputs": [],
   "source": [
    "ans = FrequentWordsWithMismatchesAndRC(\"ACGTTGCATGTCGCATGATGCATGAGAGCT\", 4, 1)\n",
    "print(ans)\n",
    "\n",
    "right_ans = {'ATGT', 'ACAT'}\n",
    "print(right_ans == set(ans))"
   ]
  },
  {
   "cell_type": "code",
   "execution_count": null,
   "id": "482022a1-ffa6-4eb2-94db-02e135b6940f",
   "metadata": {},
   "outputs": [],
   "source": []
  }
 ],
 "metadata": {
  "kernelspec": {
   "display_name": "Python 3 (ipykernel)",
   "language": "python",
   "name": "python3"
  },
  "language_info": {
   "codemirror_mode": {
    "name": "ipython",
    "version": 3
   },
   "file_extension": ".py",
   "mimetype": "text/x-python",
   "name": "python",
   "nbconvert_exporter": "python",
   "pygments_lexer": "ipython3",
   "version": "3.8.10"
  }
 },
 "nbformat": 4,
 "nbformat_minor": 5
}
