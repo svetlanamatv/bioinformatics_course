{
 "cells": [
  {
   "cell_type": "code",
   "execution_count": 3,
   "id": "8ce69681-9e8a-4725-aefc-58da251ac83d",
   "metadata": {},
   "outputs": [],
   "source": [
    "from collections import Counter\n",
    "import numpy as np\n",
    "from itertools import product\n",
    "from typing import List, Dict, Set"
   ]
  },
  {
   "cell_type": "markdown",
   "id": "8c5291c0-50e5-431d-9f2e-386830ebe788",
   "metadata": {},
   "source": [
    "### Helpers"
   ]
  },
  {
   "cell_type": "code",
   "execution_count": 4,
   "id": "bb9f86f9-7725-47ab-9e93-22fda7a2e154",
   "metadata": {},
   "outputs": [],
   "source": [
    "def HammingDistance(s1: str, s2: str) -> int:\n",
    "    ''' Takes in two k-mers and returns Hamming distance between them'''\n",
    "\n",
    "    res = 0\n",
    "    for i in range(len(s1)):\n",
    "        if s1[i] != s2[i]:\n",
    "            res += 1\n",
    "    return res"
   ]
  },
  {
   "cell_type": "code",
   "execution_count": 5,
   "id": "48728be9-3cc9-46d2-a8af-696827e105f8",
   "metadata": {},
   "outputs": [],
   "source": [
    "def Neighbors(pattern: str, d: int) -> Set[str]:\n",
    "    ''' Takes in a k-mer and returns all k-mers that have at most d mismatches with the original'''\n",
    "    \n",
    "    if d == 0:\n",
    "        return {pattern}\n",
    "    if len(pattern) == 1: \n",
    "        return {'A', 'C', 'G', 'T'}\n",
    "    \n",
    "    neighborhood = set()\n",
    "    \n",
    "    SuffixNeighbors = Neighbors(pattern[1:], d)\n",
    "    for s in SuffixNeighbors:\n",
    "        if HammingDistance(pattern[1:], s) < d:\n",
    "            for nucleotide in {'A', 'C', 'G', 'T'}:\n",
    "                neighborhood.add(nucleotide + s)\n",
    "        else:\n",
    "            neighborhood.add(pattern[0] + s)\n",
    "    return neighborhood"
   ]
  },
  {
   "cell_type": "markdown",
   "id": "b1e88871-bd35-4a97-bd9d-23a1d0da40d6",
   "metadata": {},
   "source": [
    "### Motif Enumeration"
   ]
  },
  {
   "cell_type": "code",
   "execution_count": 6,
   "id": "a202a1e0-6403-476e-b70f-667db277821f",
   "metadata": {},
   "outputs": [],
   "source": [
    "def MotifEnumeration(dna: str, k: int, d: int) -> Set[str]:\n",
    "    ''' Takes in a DNA sequence and returns all (k, d)-motifs found by Brute Force\n",
    "        where (k,d)-motif is a k-mer that appears in every string from DNA with at most d mismatches \n",
    "    \n",
    "    Parameters:\n",
    "        dna: DNA string, space separated\n",
    "          k: lenght of k-mer\n",
    "          d: max number of allowed mismatches\n",
    "          \n",
    "    Returns:\n",
    "        All (k, d)-motifs in DNA\n",
    "    '''\n",
    "\n",
    "    # preprocess input data            \n",
    "    dna = dna.split(\" \")\n",
    "    dna = [list(row) for row in dna]\n",
    "    \n",
    "    patterns_by_row = [set() for _ in dna] # Creating a list of sets length len(seq)\n",
    "    for row_index, row in enumerate(dna):\n",
    "        row_set = set()\n",
    "        for i in range(len(row) - k + 1):\n",
    "            cur_pattern = row[i:i + k]\n",
    "            pattern_neighbors = Neighbors(cur_pattern, d)\n",
    "            patterns_by_row[row_index] = patterns_by_row[row_index].union(pattern_neighbors)           \n",
    "\n",
    "    patterns = patterns_by_row[0]\n",
    "    for patterns_set in patterns_by_row:\n",
    "        patterns &= patterns_set\n",
    "\n",
    "    return patterns"
   ]
  },
  {
   "cell_type": "code",
   "execution_count": 7,
   "id": "98db8a04-7370-4eeb-ab3e-e79ce22cb4f4",
   "metadata": {},
   "outputs": [
    {
     "name": "stdout",
     "output_type": "stream",
     "text": [
      "ATA TTT GTT ATT\n"
     ]
    }
   ],
   "source": [
    "dna_1 = \"ATTTGGC TGCCTTA CGGTATC GAAAATT\"\n",
    "\n",
    "ans = MotifEnumeration(dna_1, k=3, d=1)\n",
    "print(\" \".join(ans))\n",
    "\n",
    "# right answer: TTT ATT ATA GTT"
   ]
  },
  {
   "cell_type": "code",
   "execution_count": 8,
   "id": "d363d517-390e-4486-9479-803b826d4091",
   "metadata": {},
   "outputs": [
    {
     "name": "stdout",
     "output_type": "stream",
     "text": [
      "CGCAC CGCAT CGCAG CGCAA GCATG CGGAT\n"
     ]
    }
   ],
   "source": [
    "dna_2 = \"CGCACCTATCATAGCTTGCTGATGT CGGGTCGCAAGATAAACAATTCCCG CGCACCGGTCCATAGGCCAGGATGA GTTGCCGCATACACCTTTAGTTTGG GAGGTTATATCGCATCGAGAAACGG ATCCTGAACGCCCTTCGCATGAAAG\"\n",
    "\n",
    "ans = MotifEnumeration(dna_2, k=5, d=1)\n",
    "print(\" \".join(ans))\n",
    "\n",
    "# right answer: CGCAT CGCAC CGGAT CGCAA CGCAG GCATG"
   ]
  },
  {
   "cell_type": "markdown",
   "id": "99938015-3fa9-4a7b-aa2f-af249019fc07",
   "metadata": {},
   "source": [
    "### Median String"
   ]
  },
  {
   "cell_type": "code",
   "execution_count": 9,
   "id": "b1dea728-965b-4157-8851-affa5e403485",
   "metadata": {},
   "outputs": [],
   "source": [
    "def DistanceBetweenPatternAndStrings(pattern: str, dna: str) -> float:\n",
    "    ''' Takes in a DNA sequence and a pattern and returns distance between them\n",
    "    \n",
    "    Parameters:\n",
    "        pattern: pattern in str format\n",
    "            dna: DNA string, space separated\n",
    "          \n",
    "    Returns:\n",
    "        distance: distance between DNA and pattern\n",
    "    '''\n",
    "\n",
    "    dna = dna.split(\" \")\n",
    "\n",
    "    k = len(pattern)\n",
    "    distance = 0\n",
    "    for string in dna:\n",
    "        hamming_distance = float('inf')\n",
    "        # check all k-mers in the current string\n",
    "        for i in range(len(string) - k + 1):\n",
    "            k_mer = string[i:i + k]\n",
    "            d = HammingDistance(pattern, k_mer)\n",
    "            hamming_distance = min(hamming_distance, d)\n",
    "            \n",
    "        distance += hamming_distance\n",
    "        \n",
    "    return distance"
   ]
  },
  {
   "cell_type": "code",
   "execution_count": 10,
   "id": "e1f1822b-9108-4ab4-905d-f6c5b2d235b1",
   "metadata": {},
   "outputs": [
    {
     "data": {
      "text/plain": [
       "5"
      ]
     },
     "execution_count": 10,
     "metadata": {},
     "output_type": "execute_result"
    }
   ],
   "source": [
    "dna = \"TTACCTTAAC GATATCTGTC ACGGCGTTCG CCCTAAAGAG CGTCAGAGGT\"\n",
    "\n",
    "DistanceBetweenPatternAndStrings(\"AAA\", dna)"
   ]
  },
  {
   "cell_type": "code",
   "execution_count": 11,
   "id": "9242d94d-6902-4fa5-85e5-7ba3d644f014",
   "metadata": {},
   "outputs": [],
   "source": [
    "def MedianString(dna: str, k: int) -> List[str]:\n",
    "    ''' Takes in a DNA sequence and an integer k \n",
    "        and returns a k-mer Pattern(s) that minimizes d(Pattern, DNA)\n",
    "        among all possible choices of k-mers\n",
    "    \n",
    "    Parameters:\n",
    "            dna: DNA string, space separated\n",
    "              k: k-mer length\n",
    "          \n",
    "    Returns:\n",
    "        median: a list of k-mer Patterns\n",
    "    '''    \n",
    "    \n",
    "    distance = float('inf')\n",
    "    nucleotides = [\"A\", \"T\", \"C\", \"G\"]\n",
    "    median = []\n",
    "    # create all possible pattern with length k\n",
    "    prod = [p for p in product(nucleotides, repeat=k)]\n",
    "    possible_patterns = [\"\".join(item) for item in prod]\n",
    "    \n",
    "    for pattern in possible_patterns:\n",
    "        d = DistanceBetweenPatternAndStrings(pattern, dna)\n",
    "\n",
    "        if distance > d:\n",
    "            distance = d\n",
    "            median = [pattern]\n",
    "        elif distance == d:\n",
    "            median.append(pattern)\n",
    "            \n",
    "    return median"
   ]
  },
  {
   "cell_type": "code",
   "execution_count": 12,
   "id": "ba990f49-0692-4ea6-8928-76415781493a",
   "metadata": {},
   "outputs": [
    {
     "name": "stdout",
     "output_type": "stream",
     "text": [
      "GAC\n"
     ]
    }
   ],
   "source": [
    "dna = \"AAATTGACGCAT GACGACCACGTT CGTCAGCGCCTG GCTGAGCACCGG AGTTCGGGACAG\"\n",
    "k = 3\n",
    "\n",
    "ans = MedianString(dna, k)\n",
    "print(\" \".join(ans))\n",
    "# right answer: GAC"
   ]
  },
  {
   "cell_type": "code",
   "execution_count": 13,
   "id": "5adf89ac-1b7d-4bf6-876f-a6989ea291a6",
   "metadata": {},
   "outputs": [
    {
     "name": "stdout",
     "output_type": "stream",
     "text": [
      "AATCCTA TAGTTTC GAACCAC GTAGGAA\n"
     ]
    }
   ],
   "source": [
    "dna = \"CTCGATGAGTAGGAAAGTAGTTTCACTGGGCGAACCACCCCGGCGCTAATCCTAGTGCCC GCAATCCTACCCGAGGCCACATATCAGTAGGAACTAGAACCACCACGGGTGGCTAGTTTC GGTGTTGAACCACGGGGTTAGTTTCATCTATTGTAGGAATCGGCTTCAAATCCTACACAG\"\n",
    "\n",
    "ans = MedianString(dna, 7)\n",
    "print(\" \".join(ans))\n",
    "# right answer: AATCCTA TAGTTTC GAACCAC GTAGGAA"
   ]
  },
  {
   "cell_type": "markdown",
   "id": "f210ac07-9e91-426c-b88a-6c334a3759cb",
   "metadata": {},
   "source": [
    "### Greedy Motif Search"
   ]
  },
  {
   "cell_type": "code",
   "execution_count": 14,
   "id": "fd91c7bf-9ec8-4c18-a6db-c43a17614860",
   "metadata": {},
   "outputs": [],
   "source": [
    "def get_score(motifs: List[List[str]]) -> float:\n",
    "    '''\n",
    "    Returns motifs' score\n",
    "    \n",
    "        Parameters:\n",
    "            motifs: motifs array, every line is a DNA string, every cell contains a nucleotide\n",
    "                    e.g. [['G', 'G', 'C'],\n",
    "                          ['A', 'A', 'G']]\n",
    "        Returns:\n",
    "            score: motif score\n",
    "    '''\n",
    "    \n",
    "    # convert input array into numpy array to simplify the work with columns\n",
    "    motifs = np.array(motifs)\n",
    "    n, m = len(motifs), len(motifs[0])\n",
    "    \n",
    "    score = 0\n",
    "    \n",
    "    for col in range(m):\n",
    "        # calculate nucleotides counter for one column\n",
    "        counter = Counter(motifs[:, col])\n",
    "        max_value = max(counter.values())\n",
    "        score += n - max_value\n",
    "        \n",
    "    return score"
   ]
  },
  {
   "cell_type": "code",
   "execution_count": 15,
   "id": "1ba22dff-2ffd-4531-9216-c74b4381691f",
   "metadata": {},
   "outputs": [
    {
     "data": {
      "text/plain": [
       "6"
      ]
     },
     "execution_count": 15,
     "metadata": {},
     "output_type": "execute_result"
    }
   ],
   "source": [
    "motifs = [['G', 'G', 'C'],\n",
    "          ['A', 'A', 'G'],\n",
    "          ['C', 'A', 'A'],\n",
    "          ['C', 'A', 'C'],\n",
    "          ['C', 'A', 'A']]\n",
    "\n",
    "get_score(motifs)"
   ]
  },
  {
   "cell_type": "code",
   "execution_count": 16,
   "id": "2cb287c3-dfa9-426c-8171-bfafb8b6dcda",
   "metadata": {},
   "outputs": [],
   "source": [
    "def get_profile(dna: List[List[str]]) -> Dict[str, float]:\n",
    "    ''' Takes in a DNA sequence and returns its profile\n",
    "    \n",
    "    Parameters:\n",
    "            dna: a DNA sequence in list format\n",
    "            e.g. [['G', 'G', 'C'], ['A', 'A', 'G']]\n",
    "          \n",
    "    Returns:\n",
    "        profile: a dictionary with nucleotides A, C, G, T as keys \n",
    "                 and probabilities as values\n",
    "    '''        \n",
    "    \n",
    "    dna = np.array(dna)\n",
    "    n, m = len(dna), len(dna[0])\n",
    "    \n",
    "    profile = {\n",
    "        \"A\": [0]*m,\n",
    "        \"C\": [0]*m,\n",
    "        \"G\": [0]*m,\n",
    "        \"T\": [0]*m\n",
    "    }\n",
    "    \n",
    "    for col in range(m):\n",
    "        counter = Counter(dna[:, col])\n",
    "        \n",
    "        base = sum(counter.values())\n",
    "        \n",
    "        for item, value in counter.items():\n",
    "            profile[item][col] = value / base\n",
    "            \n",
    "    return profile    "
   ]
  },
  {
   "cell_type": "code",
   "execution_count": 22,
   "id": "45c246a4-93bf-4328-8a85-1e3f493e48ba",
   "metadata": {},
   "outputs": [
    {
     "name": "stdout",
     "output_type": "stream",
     "text": [
      "{'A': [0.5, 0.5, 0], 'C': [0, 0, 0.5], 'G': [0.5, 0.5, 0.5], 'T': [0, 0, 0]}\n"
     ]
    }
   ],
   "source": [
    "ans = get_profile([['G', 'G', 'C'], ['A', 'A', 'G']])\n",
    "print(ans)"
   ]
  },
  {
   "cell_type": "code",
   "execution_count": 17,
   "id": "9b8a932e-3eed-482a-bfd2-4c86f4582c1f",
   "metadata": {},
   "outputs": [],
   "source": [
    "def get_profile_laplace(motifs: List[List[str]]) -> Dict[str, List[float]]:\n",
    "    '''         \n",
    "        Parameters:\n",
    "            motifs: motifs array, every line is a DNA string, every cell contains a nucleotide\n",
    "                    e.g. [['G', 'G', 'C'],\n",
    "                          ['A', 'A', 'G']]\n",
    "        Returns:\n",
    "            profile: motifs' profile in dictionary format,\n",
    "                     incorporating Laplace's Rule of Succession (no 0 probabilities in the answer)\n",
    "                     e.g. {'A': [0.33, 0.33, 0.16],\n",
    "                           'C': [0.16, 0.16, 0.33],\n",
    "                           'G': [0.33, 0.33, 0.33],\n",
    "                           'T': [0.16, 0.16, 0.16]}\n",
    "    '''\n",
    "    \n",
    "    motifs = np.array(motifs)\n",
    "    n, m = len(motifs), len(motifs[0])\n",
    "    \n",
    "    profile = {\n",
    "        \"A\": [1] * m,\n",
    "        \"C\": [1] * m,\n",
    "        \"G\": [1] * m,\n",
    "        \"T\": [1] * m\n",
    "    }\n",
    "    \n",
    "    for col in range(m):\n",
    "        counter = Counter(motifs[:, col])        \n",
    "        base = sum(counter.values()) + 4 # we add 1 to each of 4 nucleotides\n",
    "        \n",
    "        for nucleotide, arr in profile.items():\n",
    "            if nucleotide in counter:\n",
    "                profile[nucleotide][col] += counter[nucleotide]\n",
    "                profile[nucleotide][col] /= base\n",
    "            else:\n",
    "                profile[nucleotide][col] /= base\n",
    "            \n",
    "    return profile"
   ]
  },
  {
   "cell_type": "code",
   "execution_count": 18,
   "id": "33dc10b3-dcde-42a8-98ec-772021b7bc83",
   "metadata": {},
   "outputs": [
    {
     "name": "stdout",
     "output_type": "stream",
     "text": [
      "{'A': [0.3333333333333333, 0.3333333333333333, 0.16666666666666666], 'C': [0.16666666666666666, 0.16666666666666666, 0.3333333333333333], 'G': [0.3333333333333333, 0.3333333333333333, 0.3333333333333333], 'T': [0.16666666666666666, 0.16666666666666666, 0.16666666666666666]}\n"
     ]
    }
   ],
   "source": [
    "ans = get_profile_laplace([['G', 'G', 'C'], ['A', 'A', 'G']])\n",
    "print(ans)"
   ]
  },
  {
   "cell_type": "code",
   "execution_count": 30,
   "id": "27961824-e36c-49eb-bb53-6f281e2c0e99",
   "metadata": {},
   "outputs": [],
   "source": [
    "def find_most_prob_kmer(dna: str, profile: Dict[str, float], k: int) -> str:\n",
    "    ''' Takes in a DNA sequence, its profile \n",
    "        and returns the most probable k-mer based on it\n",
    "    \n",
    "    Parameters:\n",
    "                dna: DNA string, space separated\n",
    "            profile: DNA's profile\n",
    "          \n",
    "    Returns:\n",
    "        best_k_mer: the most probable k-mer in the DNA string\n",
    "    '''     \n",
    "    \n",
    "    n = len(dna)\n",
    "    best_k_mer = None\n",
    "    max_prob = float('-inf')\n",
    "\n",
    "    for i in range(n - k + 1):\n",
    "        k_mer = dna[i:i + k]\n",
    "\n",
    "        prob = 1\n",
    "        for index, nucleotide in enumerate(k_mer):\n",
    "            prob *= profile[nucleotide][index]\n",
    "\n",
    "        if prob > max_prob:\n",
    "            max_prob = prob\n",
    "            best_k_mer = k_mer\n",
    "\n",
    "    return best_k_mer   "
   ]
  },
  {
   "cell_type": "code",
   "execution_count": 31,
   "id": "37193c2b-ba73-429b-873e-6da6ffa80419",
   "metadata": {},
   "outputs": [
    {
     "name": "stdout",
     "output_type": "stream",
     "text": [
      "AAG\n"
     ]
    }
   ],
   "source": [
    "profile = {\n",
    "\"A\": [0, 0, 0],\n",
    "\"C\": [0, 0, 1],\n",
    "\"G\": [1, 1, 0],\n",
    "\"T\": [0, 0, 0]\n",
    "}\n",
    "\n",
    "ans = find_most_prob_kmer(\"AAGAATCAGTCA\", profile, 3)\n",
    "print(ans)"
   ]
  },
  {
   "cell_type": "code",
   "execution_count": 50,
   "id": "3bdd8d80-3577-41eb-8ccf-925a3e059cfa",
   "metadata": {},
   "outputs": [],
   "source": [
    "def GreedyMotifSearch(dna: str, k: int, t: int) -> List[str]:\n",
    "    ''' Takes in a DNA sequence and returns best motifs\n",
    "    \n",
    "    Parameters:\n",
    "                dna: DNA string, space separated\n",
    "                  k: k-mer length\n",
    "                  t: number of DNA lines to use\n",
    "          \n",
    "    Returns:\n",
    "        motifs: a collection of strings representing best motifs\n",
    "    '''      \n",
    "    \n",
    "    \n",
    "    dna = dna.split(\" \")\n",
    "    dna = [list(row) for row in dna]\n",
    "    \n",
    "    n, m = len(dna), len(dna[0])\n",
    "    \n",
    "    best_motifs = None\n",
    "    best_score = float(\"inf\")\n",
    "    \n",
    "    for i in range(m - k + 1):\n",
    "        start_kmer = dna[0][i:i + k]\n",
    "        \n",
    "        motifs = [start_kmer]\n",
    "\n",
    "        for row in range(1, t):\n",
    "            profile = get_profile_laplace(motifs)\n",
    "            \n",
    "            best_kmer = list(find_most_prob_kmer(\"\".join(dna[row]), profile, k))\n",
    "            motifs.append(best_kmer)            \n",
    "            \n",
    "        motifs_score = get_score(motifs)\n",
    "        \n",
    "        if motifs_score < best_score:\n",
    "            best_score = motifs_score\n",
    "            best_motifs = motifs\n",
    "            \n",
    "    return [\"\".join(row) for row in best_motifs]    "
   ]
  },
  {
   "cell_type": "code",
   "execution_count": 51,
   "id": "664ae73e-4ac6-4965-8cce-f2db302c407c",
   "metadata": {},
   "outputs": [
    {
     "name": "stdout",
     "output_type": "stream",
     "text": [
      "TTC ATC TTC ATC TTC\n"
     ]
    }
   ],
   "source": [
    "dna = \"GGCGTTCAGGCA AAGAATCAGTCA CAAGGAGTTCGC CACGTCAATCAC CAATAATATTCG\"\n",
    "ans = GreedyMotifSearch(dna, 3, 5)\n",
    "print(\" \".join(ans))"
   ]
  },
  {
   "cell_type": "code",
   "execution_count": null,
   "id": "f8e6532d-aeb4-42c2-88f7-95329b9de152",
   "metadata": {},
   "outputs": [],
   "source": []
  }
 ],
 "metadata": {
  "kernelspec": {
   "display_name": "Python 3 (ipykernel)",
   "language": "python",
   "name": "python3"
  },
  "language_info": {
   "codemirror_mode": {
    "name": "ipython",
    "version": 3
   },
   "file_extension": ".py",
   "mimetype": "text/x-python",
   "name": "python",
   "nbconvert_exporter": "python",
   "pygments_lexer": "ipython3",
   "version": "3.8.10"
  }
 },
 "nbformat": 4,
 "nbformat_minor": 5
}
