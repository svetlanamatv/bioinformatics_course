{
 "cells": [
  {
   "cell_type": "code",
   "execution_count": 1,
   "id": "0346e4ea-eebb-40db-934e-477b9ed00c36",
   "metadata": {
    "tags": []
   },
   "outputs": [],
   "source": [
    "from collections import Counter\n",
    "import numpy as np\n",
    "import random\n",
    "from typing import List, Dict"
   ]
  },
  {
   "cell_type": "code",
   "execution_count": 2,
   "id": "9008e4fc-f409-4ba8-be7c-68b4882d5941",
   "metadata": {},
   "outputs": [],
   "source": [
    "def get_score(motifs: List[List[str]]) -> float:\n",
    "    '''\n",
    "    Returns motifs' score\n",
    "    \n",
    "        Parameters:\n",
    "            motifs: motifs array, every line is a DNA string, every cell contains a nucleotide\n",
    "                    e.g. [['G', 'G', 'C'],\n",
    "                          ['A', 'A', 'G']]\n",
    "        Returns:\n",
    "            score: motif score\n",
    "    '''\n",
    "    \n",
    "    # convert input array into numpy array to simplify the work with columns\n",
    "    motifs = np.array(motifs)\n",
    "    n, m = len(motifs), len(motifs[0])\n",
    "    \n",
    "    score = 0\n",
    "    \n",
    "    for col in range(m):\n",
    "        # calculate nucleotides counter for one column\n",
    "        counter = Counter(motifs[:, col])\n",
    "        max_value = max(counter.values())\n",
    "        score += n - max_value\n",
    "        \n",
    "    return score    "
   ]
  },
  {
   "cell_type": "code",
   "execution_count": 3,
   "id": "b7712f91-c995-4578-8083-1e285e7c9553",
   "metadata": {},
   "outputs": [],
   "source": [
    "def Random(probabilities: List[float]) -> int:\n",
    "    ''' Takes in an array with probabilities of getting numbers from [0, len(probabilities)]\n",
    "            and returns a random number based on probabilities\n",
    "        For example, probabilities = [0.1, 0.2, 0.3] where \n",
    "                     0.1 - probability of getting 0,\n",
    "                     0.2 - probability of getting 1, etc\n",
    "    '''\n",
    "\n",
    "    n = len(probabilities)   \n",
    "    s = sum(probabilities)\n",
    "    \n",
    "    # if probabilities don't sum up to 1 scale the probabilities array\n",
    "    # for example, [0.1, 0.2, 0.3] -> [0.16, 0.33, 0.49]\n",
    "    if s != 1:\n",
    "        probabilities = [p/s for p in probabilities]\n",
    "\n",
    "    return np.random.choice(np.arange(0, n), p=probabilities)"
   ]
  },
  {
   "cell_type": "code",
   "execution_count": 36,
   "id": "f41a533d-9e21-4a1b-82e8-bffc63a14350",
   "metadata": {},
   "outputs": [],
   "source": [
    "def get_profile_laplace(motifs: List[List[str]]) -> Dict[str, List[float]]:\n",
    "    '''         \n",
    "        Parameters:\n",
    "            motifs: motifs array, every line is a DNA string, every cell contains a nucleotide\n",
    "                    e.g. [['G', 'G', 'C'],\n",
    "                          ['A', 'A', 'G']]\n",
    "        Returns:\n",
    "            profile: motifs' profile in dictionary format,\n",
    "                     incorporating Laplace's Rule of Succession (no 0 probabilities in the answer)\n",
    "                     e.g. {'A': [0.33, 0.33, 0.16],\n",
    "                           'C': [0.16, 0.16, 0.33],\n",
    "                           'G': [0.33, 0.33, 0.33],\n",
    "                           'T': [0.16, 0.16, 0.16]}\n",
    "    '''\n",
    "    \n",
    "    motifs = np.array(motifs)\n",
    "    n, m = len(motifs), len(motifs[0])\n",
    "    \n",
    "    profile = {\n",
    "        \"A\": [1] * m,\n",
    "        \"C\": [1] * m,\n",
    "        \"G\": [1] * m,\n",
    "        \"T\": [1] * m\n",
    "    }\n",
    "    \n",
    "    for col in range(m):\n",
    "        counter = Counter(motifs[:, col])        \n",
    "        base = sum(counter.values()) + 4 # we add 1 to each of 4 nucleotides\n",
    "        \n",
    "        for nucleotide, arr in profile.items():\n",
    "            if nucleotide in counter:\n",
    "                profile[nucleotide][col] += counter[nucleotide]\n",
    "                profile[nucleotide][col] /= base\n",
    "            else:\n",
    "                profile[nucleotide][col] /= base\n",
    "            \n",
    "    return profile"
   ]
  },
  {
   "cell_type": "code",
   "execution_count": 37,
   "id": "380f7add-1a67-4d11-ba1e-73c3c90f9c90",
   "metadata": {},
   "outputs": [],
   "source": [
    "def find_kmer_probabilities(dna_string: str, profile: Dict[str, List[float]], k: int) -> List[float]:\n",
    "    ''' Takes in a single dna string, profile and returns a list of probabilities for all k-mers in the input string '''\n",
    "    \n",
    "    n = len(dna_string)\n",
    "\n",
    "    res = []\n",
    "    for i in range(n - k + 1):\n",
    "        k_mer = dna_string[i:i + k]\n",
    "\n",
    "        prob = 1\n",
    "        for index, nucleotide in enumerate(k_mer):\n",
    "            prob *= profile[nucleotide][index]\n",
    "        \n",
    "        res.append(prob)\n",
    "\n",
    "    return res"
   ]
  },
  {
   "cell_type": "code",
   "execution_count": 40,
   "id": "139f7312-da22-4453-943f-fc8a6cb1a35c",
   "metadata": {},
   "outputs": [],
   "source": [
    "def GibbsSampler(dna: str, k: int, t: int, max_n: int) -> [List[str], float]:\n",
    "    ''' Takes in a DNA sequence and returns motifs found by Gibbs sampler\n",
    "    \n",
    "    Parameters:\n",
    "          dna: full DNA string, space separated\n",
    "            k: lenght of k-mer\n",
    "            t: number of first DNA lines used for motif search\n",
    "        max_n: maximum number of searching iterations\n",
    "\n",
    "    Returns:\n",
    "            best_motifs: a list of motifs in str format\n",
    "            motifs_score: corresponding score for the best motifs    \n",
    "    '''\n",
    "\n",
    "    def find_best_motifs():    \n",
    "        best_motifs = []\n",
    "        best_score = float(\"inf\")\n",
    "\n",
    "        # randomly select k-mers Motifs = [Motif_1, …, Motif_t] in each string from DNA\n",
    "        for i in range(t):\n",
    "            rand_index = random.randint(0, m - k)\n",
    "            rand_k_mer = dna[i][rand_index:rand_index + k]\n",
    "            best_motifs.append(rand_k_mer)\n",
    "\n",
    "        for j in range(max_n):\n",
    "            # randomly select the i-th row\n",
    "            i = random.randint(0, t-1)\n",
    "            \n",
    "            # get profile for all rows except the i-th\n",
    "            profile = get_profile_laplace(best_motifs[0:i] + best_motifs[i + 1:])\n",
    "            # get probabilities for every k-mer in the i-th row based in the profile\n",
    "            probabilities = find_kmer_probabilities(\"\".join(dna[i]), profile, k)\n",
    "            # randomly select one k-mer from the i-th row based on the probabilities\n",
    "            kmer_index = Random(probabilities)\n",
    "            motifs_i = dna[i][kmer_index:kmer_index + k]\n",
    "            \n",
    "            # replace i-th row with the previously selected k-mer\n",
    "            motifs = best_motifs[0:i] + [motifs_i] + best_motifs[i + 1:]\n",
    "            motifs_score = get_score(motifs)\n",
    "            \n",
    "            # update best motifs and score if needed\n",
    "            if motifs_score < best_score:\n",
    "                best_score = motifs_score\n",
    "                best_motifs = motifs\n",
    "            \n",
    "        return best_motifs, best_score\n",
    "    \n",
    "    # preprocess input data            \n",
    "    dna = dna.split(\" \")\n",
    "    dna = [list(row) for row in dna]\n",
    "    \n",
    "    n, m = len(dna), len(dna[0])\n",
    "    \n",
    "    global_best_motifs = None\n",
    "    global_best_score = float(\"inf\")\n",
    "\n",
    "    # run find_best_motifs() function 20 times\n",
    "    for i in range(20):\n",
    "        motifs, score = find_best_motifs()\n",
    "\n",
    "        if score < global_best_score:\n",
    "            global_best_score = score\n",
    "            global_best_motifs = motifs\n",
    "                \n",
    "    return [\"\".join(row) for row in global_best_motifs], global_best_score"
   ]
  },
  {
   "cell_type": "code",
   "execution_count": 42,
   "id": "723ee5c8-0c49-4412-b10b-a3b3a68e18c3",
   "metadata": {},
   "outputs": [],
   "source": [
    "def get_consensus_string(motifs: List[str]) -> str:\n",
    "    ''' Takes in motifs array and returns consensus string'''\n",
    "    \n",
    "    motifs = [list(row) for row in motifs]\n",
    "    \n",
    "    motifs = np.array(motifs)\n",
    "    n, m = len(motifs), len(motifs[0])\n",
    "    \n",
    "    consensus_string = \"\"\n",
    "    for col in range(m):\n",
    "        counter = Counter(motifs[:, col])\n",
    "        \n",
    "        nucleotide = max(counter, key=counter.get)\n",
    "        consensus_string += nucleotide\n",
    "    \n",
    "    return consensus_string   "
   ]
  },
  {
   "cell_type": "code",
   "execution_count": 41,
   "id": "53eaedd4-bb3b-46ba-bdbf-cce3f6e08c81",
   "metadata": {},
   "outputs": [],
   "source": [
    "genes = []\n",
    "with open('data/upstream250.txt') as f:\n",
    "    genome = f.readlines()\n",
    "    \n",
    "    # odd lines - gene tag\n",
    "    # even lines - actual sequence of 250 nucleotides\n",
    "    for i in range(1, len(genome), 2):\n",
    "        # we should remove \\n\n",
    "        genes.append(genome[i][:-1])\n",
    "        \n",
    "dna = \" \".join(genes)"
   ]
  },
  {
   "cell_type": "code",
   "execution_count": 44,
   "id": "59987017-69c2-42a6-b28e-64e7080f73b6",
   "metadata": {},
   "outputs": [
    {
     "name": "stdout",
     "output_type": "stream",
     "text": [
      "Score: 252 \n",
      " Consensus string: TGGGGACCGTCGGCCCCGGC\n"
     ]
    }
   ],
   "source": [
    "k, t, max_n = 20, 36, 1000\n",
    "\n",
    "motif, score = GibbsSampler(dna, k, t, max_n)\n",
    "consensus_string = get_consensus_string(motif)\n",
    "print(\"Score: {} \\nConsensus string: {}\".format(score, consensus_string))"
   ]
  },
  {
   "cell_type": "code",
   "execution_count": 1,
   "id": "f23ed22a-8276-4c9a-a14e-6aa3efb740a8",
   "metadata": {},
   "outputs": [
    {
     "data": {
      "text/plain": [
       "22"
      ]
     },
     "execution_count": 1,
     "metadata": {},
     "output_type": "execute_result"
    }
   ],
   "source": [
    "len([57, 139, 107, 172, 114, 136, 159, 143, 155, 186, 178, 200, 118, 137, 173, 201, 160, 62, 216, 165, 45, 204])"
   ]
  },
  {
   "cell_type": "code",
   "execution_count": 2,
   "id": "8b83c13f-3444-4acf-9e68-333f1a545c59",
   "metadata": {},
   "outputs": [
    {
     "data": {
      "text/plain": [
       "20"
      ]
     },
     "execution_count": 2,
     "metadata": {},
     "output_type": "execute_result"
    }
   ],
   "source": [
    "len(\"TAGGGCCGGAAGTCCCCAAT\")"
   ]
  },
  {
   "cell_type": "code",
   "execution_count": null,
   "id": "1098bbbe-fab0-4727-8241-4033e9e0ab4c",
   "metadata": {},
   "outputs": [],
   "source": []
  }
 ],
 "metadata": {
  "kernelspec": {
   "display_name": "Python 3 (ipykernel)",
   "language": "python",
   "name": "python3"
  },
  "language_info": {
   "codemirror_mode": {
    "name": "ipython",
    "version": 3
   },
   "file_extension": ".py",
   "mimetype": "text/x-python",
   "name": "python",
   "nbconvert_exporter": "python",
   "pygments_lexer": "ipython3",
   "version": "3.8.10"
  }
 },
 "nbformat": 4,
 "nbformat_minor": 5
}
