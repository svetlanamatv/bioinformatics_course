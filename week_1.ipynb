{
 "cells": [
  {
   "cell_type": "code",
   "execution_count": 32,
   "id": "696cca56-0812-431f-970e-7112aaa781ce",
   "metadata": {},
   "outputs": [],
   "source": [
    "from collections import defaultdict\n",
    "from typing import List, Dict, Set"
   ]
  },
  {
   "cell_type": "markdown",
   "id": "5b188976-57d4-4281-ad0d-af73c942acc6",
   "metadata": {},
   "source": [
    "### Pattern Count"
   ]
  },
  {
   "cell_type": "code",
   "execution_count": 3,
   "id": "d85cb435-44d8-4752-977a-58633c1492e8",
   "metadata": {},
   "outputs": [],
   "source": [
    "def PatternCount(text: str, pattern: str) -> int:\n",
    "    ''' \n",
    "    Returns the number of times that a k-mer Pattern appears as a substring of Text\n",
    "    '''\n",
    "\n",
    "    count = 0\n",
    "    \n",
    "    for i in range(len(text) - len(pattern)):\n",
    "        if text[i:i + len(pattern)] == pattern:\n",
    "            count += 1\n",
    "            \n",
    "    return count"
   ]
  },
  {
   "cell_type": "code",
   "execution_count": 4,
   "id": "721586b8-1c3f-466a-971f-b10eddc315bc",
   "metadata": {},
   "outputs": [
    {
     "data": {
      "text/plain": [
       "6"
      ]
     },
     "execution_count": 4,
     "metadata": {},
     "output_type": "execute_result"
    }
   ],
   "source": [
    "PatternCount(\"GACCATCAAAACTGATAAACTACTTAAAAATCAGT\", \"AAA\")"
   ]
  },
  {
   "cell_type": "markdown",
   "id": "88202cdb-c5f7-45dd-b702-e5c935e5a62b",
   "metadata": {},
   "source": [
    "### Frequent Words Problem"
   ]
  },
  {
   "cell_type": "code",
   "execution_count": 11,
   "id": "d2e6a7eb-5639-40e4-afb4-cef51e688bf7",
   "metadata": {},
   "outputs": [],
   "source": [
    "def FrequencyTable(text: str, k: int) -> Dict[str, int]:\n",
    "    ''' Returns a frequency table for all k-mers in text '''\n",
    "\n",
    "    table = defaultdict(int)\n",
    "    for i in range(len(text) - k):\n",
    "        pattern = text[i:i + k]\n",
    "        table[pattern] += 1\n",
    "        \n",
    "    return table"
   ]
  },
  {
   "cell_type": "code",
   "execution_count": 12,
   "id": "6781f4c6-b5da-40de-87cf-75f82fb05fd7",
   "metadata": {},
   "outputs": [
    {
     "data": {
      "text/plain": [
       "defaultdict(int,\n",
       "            {'ACGT': 1,\n",
       "             'CGTT': 1,\n",
       "             'GTTG': 1,\n",
       "             'TTGC': 1,\n",
       "             'TGCA': 2,\n",
       "             'GCAT': 3,\n",
       "             'CATG': 3,\n",
       "             'ATGT': 1,\n",
       "             'TGTC': 1,\n",
       "             'GTCG': 1,\n",
       "             'TCGC': 1,\n",
       "             'CGCA': 1,\n",
       "             'ATGA': 2,\n",
       "             'TGAT': 1,\n",
       "             'GATG': 1,\n",
       "             'ATGC': 1,\n",
       "             'TGAG': 1,\n",
       "             'GAGA': 1,\n",
       "             'AGAG': 1,\n",
       "             'GAGC': 1})"
      ]
     },
     "execution_count": 12,
     "metadata": {},
     "output_type": "execute_result"
    }
   ],
   "source": [
    "text = \"ACGTTGCATGTCGCATGATGCATGAGAGCT\"\n",
    "k = 4\n",
    "\n",
    "FrequencyTable(text, k)"
   ]
  },
  {
   "cell_type": "code",
   "execution_count": 13,
   "id": "0df47797-1c39-4267-9062-ea4bd0892a3c",
   "metadata": {},
   "outputs": [],
   "source": [
    "def BetterFrequentWords(text: str, k: int) -> str:\n",
    "    ''' Returns the most frequent k-mers in text '''\n",
    "\n",
    "    table = FrequencyTable(text, k)\n",
    "\n",
    "    max_count = max(table.values())\n",
    "\n",
    "    ans = [key for key, value in table.items() if value == max_count]\n",
    "    return \"  \".join(ans)"
   ]
  },
  {
   "cell_type": "code",
   "execution_count": 15,
   "id": "1b5d4bc1-2908-401e-9a13-17147fa1ba9a",
   "metadata": {},
   "outputs": [
    {
     "data": {
      "text/plain": [
       "'GCAT  CATG'"
      ]
     },
     "execution_count": 15,
     "metadata": {},
     "output_type": "execute_result"
    }
   ],
   "source": [
    "text = \"ACGTTGCATGTCGCATGATGCATGAGAGCT\"\n",
    "k = 4\n",
    "\n",
    "BetterFrequentWords(text, k)"
   ]
  },
  {
   "cell_type": "markdown",
   "id": "e1861856-c59a-4a21-86fb-654373806cdd",
   "metadata": {},
   "source": [
    "### Reverse complement"
   ]
  },
  {
   "cell_type": "code",
   "execution_count": 17,
   "id": "6e291f50-8e37-4f07-9cdf-4990d10846bf",
   "metadata": {},
   "outputs": [],
   "source": [
    "def get_compliment(original: str) -> str:\n",
    "    ''' Returns a reverse compiment for the original string'''\n",
    "    \n",
    "    original = original.upper()\n",
    "    \n",
    "    d = {\"A\": \"T\", \"T\": \"A\", \"G\": \"C\", \"C\": \"G\"}\n",
    "\n",
    "    compliment = []\n",
    "\n",
    "    for item in original:\n",
    "        compliment.append(d[item])\n",
    "        \n",
    "    ans = \"\".join(compliment[::-1])\n",
    "    return ans"
   ]
  },
  {
   "cell_type": "code",
   "execution_count": 20,
   "id": "87dbd0f9-3ee9-402d-9942-cb3b6ef7c9b5",
   "metadata": {},
   "outputs": [
    {
     "name": "stdout",
     "output_type": "stream",
     "text": [
      "ACCGGGTTTT\n",
      "True\n"
     ]
    }
   ],
   "source": [
    "original = \"AAAACCCGGT\"\n",
    "right_ans = \"ACCGGGTTTT\"\n",
    "\n",
    "ans = get_compliment(original)\n",
    "print(ans)\n",
    "print(ans == right_ans)"
   ]
  },
  {
   "cell_type": "markdown",
   "id": "cc05e11b-f90d-4483-87b3-8da04eef1f3d",
   "metadata": {},
   "source": [
    "### Pattern Matching Problem"
   ]
  },
  {
   "cell_type": "code",
   "execution_count": 22,
   "id": "f7bfecb9-f7c6-41b9-9058-628e20b2669d",
   "metadata": {},
   "outputs": [],
   "source": [
    "def findStartingPositions(pattern: str, genome: str) -> List[int]:\n",
    "    ''' Returns indices list of all occurrences of a pattern in a string '''\n",
    "\n",
    "    indices = []\n",
    "    \n",
    "    for i in range(len(genome) - len(pattern) + 1):\n",
    "        if genome[i:i + len(pattern)] == pattern:\n",
    "            indices.append(str(i))\n",
    "            \n",
    "    return \" \".join(indices)"
   ]
  },
  {
   "cell_type": "code",
   "execution_count": 24,
   "id": "0a3a4a23-ed6c-4984-9243-b932d10939ab",
   "metadata": {},
   "outputs": [
    {
     "name": "stdout",
     "output_type": "stream",
     "text": [
      "1 3 9\n"
     ]
    }
   ],
   "source": [
    "pattern = \"ATAT\"\n",
    "genome = \"GATATATGCATATACTT\"\n",
    "\n",
    "starting_positions = findStartingPositions(pattern, genome)\n",
    "print(starting_positions)\n",
    "# right answer: 1, 3, 9"
   ]
  },
  {
   "cell_type": "markdown",
   "id": "23fe3c9d-558e-4414-ad34-6c0f49908cec",
   "metadata": {},
   "source": [
    "### The Clump Finding Problem"
   ]
  },
  {
   "cell_type": "code",
   "execution_count": 28,
   "id": "9f220170-9c3f-4720-a181-82a7c15cc913",
   "metadata": {},
   "outputs": [],
   "source": [
    "def FindClumps(text: str, k: int, L: int, t: int) -> Set[str]:\n",
    "    ''' Finds k-mers forming (L, t) clumps in text\n",
    "    \n",
    "    Parameters:\n",
    "        text: gemone in string format\n",
    "        k: k-mer length\n",
    "        L: length of an interval of the genome\n",
    "        t: how many times a k-mer should appear within L interval\n",
    "        \n",
    "    Returns:    \n",
    "        clumps: a set with k-mers that form (L, t) clumps\n",
    "    \n",
    "    '''\n",
    "    \n",
    "    clumps = set()\n",
    "    table = FrequencyTable(text[0:L], k)\n",
    "    clumps.update([key for key, value in table.items() if value == t])    \n",
    "    \n",
    "    for i in range(1, len(text) - L):        \n",
    "        pattern_1 = text[i - 1:i - 1 + k]\n",
    "        pattern_2 = text[i + L - k:i + L]\n",
    "        \n",
    "        table[pattern_1] -= 1\n",
    "        table[pattern_2] += 1\n",
    "        \n",
    "        if table[pattern_1] == t:\n",
    "            clumps.add(pattern_1)\n",
    "        if table[pattern_2] == t:\n",
    "            clumps.add(pattern_2)\n",
    "        \n",
    "    return clumps "
   ]
  },
  {
   "cell_type": "code",
   "execution_count": 31,
   "id": "e9e20a4d-6581-41ed-ab39-798acd743245",
   "metadata": {},
   "outputs": [
    {
     "name": "stdout",
     "output_type": "stream",
     "text": [
      "GAAGA CGACA\n"
     ]
    }
   ],
   "source": [
    "text = \"CGGACTCGACAGATGTGAAGAACGACAATGTGAAGACTCGACACGACAGAGTGAAGAGAAGAGGAAACATTGTAA\"\n",
    "k, L, t = 5, 50, 4\n",
    "\n",
    "ans = FindClumps(text, k, L, t)\n",
    "print(\" \".join(ans))\n",
    "\n",
    "# right answer: GAAGA CGACA"
   ]
  },
  {
   "cell_type": "code",
   "execution_count": null,
   "id": "2efc0403-9458-4214-978b-e46b7b8336d6",
   "metadata": {},
   "outputs": [],
   "source": []
  }
 ],
 "metadata": {
  "kernelspec": {
   "display_name": "Python 3 (ipykernel)",
   "language": "python",
   "name": "python3"
  },
  "language_info": {
   "codemirror_mode": {
    "name": "ipython",
    "version": 3
   },
   "file_extension": ".py",
   "mimetype": "text/x-python",
   "name": "python",
   "nbconvert_exporter": "python",
   "pygments_lexer": "ipython3",
   "version": "3.8.10"
  }
 },
 "nbformat": 4,
 "nbformat_minor": 5
}
